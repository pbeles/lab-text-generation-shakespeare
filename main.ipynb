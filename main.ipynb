{
 "cells": [
  {
   "cell_type": "markdown",
   "metadata": {},
   "source": [
    "# Lab | Text Generation from Shakespeare's Sonnet\n",
    "\n",
    "This notebook explores the fascinating domain of text generation using a deep learning model trained on Shakespeare's sonnets. \n",
    "\n",
    "The objective is to create a neural network capable of generating text sequences that mimic the style and language of Shakespeare.\n",
    "\n",
    "By utilizing a Recurrent Neural Network (RNN) with Long Short-Term Memory (LSTM) layers, this project aims to demonstrate how a model can learn and replicate the complex patterns of early modern English. \n",
    "\n",
    "The dataset used consists of Shakespeare's sonnets, which are preprocessed and tokenized to serve as input for the model.\n",
    "\n",
    "Throughout this notebook, you will see the steps taken to prepare the data, build and train the model, and evaluate its performance in generating text. \n",
    "\n",
    "This lab provides a hands-on approach to understanding the intricacies of natural language processing (NLP) and the potential of machine learning in creative text generation."
   ]
  },
  {
   "cell_type": "markdown",
   "metadata": {},
   "source": [
    "Let's import necessary libraries"
   ]
  },
  {
   "cell_type": "code",
   "execution_count": 8,
   "metadata": {
    "id": "BOwsuGQQY9OL",
    "tags": []
   },
   "outputs": [],
   "source": [
    "from tensorflow.keras.preprocessing.sequence import pad_sequences\n",
    "from tensorflow.keras.layers import Embedding, LSTM, Dense, Dropout, Bidirectional\n",
    "from tensorflow.keras.preprocessing.text import Tokenizer\n",
    "from tensorflow.keras.models import Sequential\n",
    "from tensorflow.keras.optimizers import Adam\n",
    "from tensorflow.keras import regularizers\n",
    "import tensorflow.keras.utils as ku \n",
    "import numpy as np"
   ]
  },
  {
   "cell_type": "markdown",
   "metadata": {},
   "source": [
    "Let's get the data!"
   ]
  },
  {
   "cell_type": "code",
   "execution_count": 9,
   "metadata": {
    "tags": []
   },
   "outputs": [],
   "source": [
    "import requests\n",
    "url = 'https://raw.githubusercontent.com/martin-gorner/tensorflow-rnn-shakespeare/master/shakespeare/sonnets.txt'\n",
    "resp = requests.get(url)\n",
    "with open('sonnets.txt', 'wb') as f:\n",
    "    f.write(resp.content)\n",
    "\n",
    "data = open('sonnets.txt').read()\n",
    "\n",
    "corpus = data.lower().split(\"\\n\")"
   ]
  },
  {
   "cell_type": "markdown",
   "metadata": {},
   "source": [
    "Step 1: Initialise a tokenizer and fit it on the corpus variable using .fit_on_texts"
   ]
  },
  {
   "cell_type": "code",
   "execution_count": 10,
   "metadata": {},
   "outputs": [],
   "source": [
    "tokenizer = Tokenizer()\n",
    "tokenizer.fit_on_texts(corpus)\n"
   ]
  },
  {
   "cell_type": "markdown",
   "metadata": {},
   "source": [
    "Step 2: Calculate the Vocabulary Size\n",
    "\n",
    "Let's figure out how many unique words are in your corpus. This will be the size of your vocabulary.\n",
    "\n",
    "Calculate the length of tokenizer.word_index, add 1 to it and store it in a variable called total_words."
   ]
  },
  {
   "cell_type": "code",
   "execution_count": 11,
   "metadata": {},
   "outputs": [],
   "source": [
    "total_words = len(tokenizer.word_index) + 1\n"
   ]
  },
  {
   "cell_type": "markdown",
   "metadata": {},
   "source": [
    "Create an empty list called input_sequences.\n",
    "\n",
    "For each sentence in your corpus, convert the text into a sequence of integers using the tokenizer.\n",
    "Then, generate n-gram sequences from these tokens.\n",
    "\n",
    "Store the result in the list input_sequences."
   ]
  },
  {
   "cell_type": "code",
   "execution_count": 12,
   "metadata": {},
   "outputs": [],
   "source": [
    "input_sequences = []\n",
    "\n",
    "for line in corpus:\n",
    "    token_list = tokenizer.texts_to_sequences([line])[0]\n",
    "    for i in range(1, len(token_list)):\n",
    "        n_gram_sequence = token_list[:i + 1]\n",
    "        input_sequences.append(n_gram_sequence)\n"
   ]
  },
  {
   "cell_type": "markdown",
   "metadata": {},
   "source": [
    "Calculate the length of the longest sequence in input_sequences. Assign the result to a variable called max_sequence_len.\n",
    "\n",
    "Now pad the sequences using pad_sequences(input_sequences, maxlen=max_sequence_len, padding='pre').\n",
    "Convert it to a numpy array and assign the result back to our variable called input_sequences."
   ]
  },
  {
   "cell_type": "code",
   "execution_count": 13,
   "metadata": {},
   "outputs": [],
   "source": [
    "max_sequence_len = max([len(seq) for seq in input_sequences])\n",
    "\n",
    "input_sequences = pad_sequences(input_sequences, maxlen=max_sequence_len, padding='pre')\n"
   ]
  },
  {
   "cell_type": "markdown",
   "metadata": {},
   "source": [
    "Prepare Predictors and Labels\n",
    "\n",
    "Split the sequences into two parts:\n",
    "\n",
    "- Predictors: All elements from input_sequences except the last one.\n",
    "- Labels: The last element of each sequence in input_sequences."
   ]
  },
  {
   "cell_type": "code",
   "execution_count": 14,
   "metadata": {
    "id": "PRnDnCW-Z7qv",
    "tags": []
   },
   "outputs": [],
   "source": [
    "predictors, labels = input_sequences[:, :-1], input_sequences[:, -1]\n"
   ]
  },
  {
   "cell_type": "markdown",
   "metadata": {},
   "source": [
    "One-Hot Encode the Labels :\n",
    "\n",
    "Convert the labels (which are integers) into one-hot encoded vectors. \n",
    "\n",
    "Ensure the length of these vectors matches the total number of unique words in your vocabulary.\n",
    "\n",
    "Use ku.to_categorical() on labels with num_classes = total_words\n",
    "\n",
    "Assign the result back to our variable labels."
   ]
  },
  {
   "cell_type": "code",
   "execution_count": 15,
   "metadata": {},
   "outputs": [],
   "source": [
    "labels = ku.to_categorical(labels, num_classes=total_words)\n"
   ]
  },
  {
   "cell_type": "markdown",
   "metadata": {},
   "source": [
    "# Initialize the Model\n",
    "\n",
    "Start by creating a Sequential model.\n",
    "\n",
    "Add Layers to the Model:\n",
    "\n",
    "Embedding Layer: The first layer is an embedding layer. It converts word indices into dense vectors of fixed size (100 in this case). Set the input length to the maximum sequence length minus one, which corresponds to the number of previous words the model will consider when predicting the next word.\n",
    "\n",
    "Bidirectional LSTM Layer: Add a Bidirectional LSTM layer with 150 units. This layer allows the model to learn context from both directions (past and future) in the sequence. return_sequences=True\n",
    "\n",
    "Dropout Layer: Add a dropout layer with a rate of 0.2 to prevent overfitting by randomly setting 20% of the input units to 0 during training.\n",
    "\n",
    "LSTM Layer: Add a second LSTM layer with 100 units. This layer processes the sequence and passes its output to the next layer.\n",
    "\n",
    "Dense Layer (Intermediate): Add a dense layer with half the total number of words as units, using ReLU activation. A regularization term (L2) is added to prevent overfitting.\n",
    "\n",
    "Dense Layer (Output): The final dense layer has as many units as there are words in the vocabulary, with a softmax activation function to output a probability distribution over all words."
   ]
  },
  {
   "cell_type": "code",
   "execution_count": 16,
   "metadata": {},
   "outputs": [],
   "source": [
    "model = Sequential([\n",
    "    Embedding(total_words, 100, input_length=max_sequence_len - 1),\n",
    "    Bidirectional(LSTM(150, return_sequences=True)),\n",
    "    Dropout(0.2),\n",
    "    LSTM(100),\n",
    "    Dense(total_words // 2, activation='relu', kernel_regularizer=regularizers.l2(0.01)),\n",
    "    Dense(total_words, activation='softmax')\n",
    "])\n"
   ]
  },
  {
   "cell_type": "markdown",
   "metadata": {},
   "source": [
    "# Compile the Model:\n",
    "\n",
    "Compile the model using categorical crossentropy as the loss function, the Adam optimizer for efficient training, and accuracy as the metric to evaluate during training."
   ]
  },
  {
   "cell_type": "code",
   "execution_count": 17,
   "metadata": {},
   "outputs": [],
   "source": [
    "model.compile(loss='categorical_crossentropy', optimizer='adam', metrics=['accuracy'])\n"
   ]
  },
  {
   "cell_type": "markdown",
   "metadata": {},
   "source": [
    "# Print Model Summary:\n",
    "\n",
    "Use model.summary() to print a summary of the model, which shows the layers, their output shapes, and the number of parameters."
   ]
  },
  {
   "cell_type": "code",
   "execution_count": 18,
   "metadata": {},
   "outputs": [
    {
     "name": "stdout",
     "output_type": "stream",
     "text": [
      "Model: \"sequential\"\n",
      "_________________________________________________________________\n",
      " Layer (type)                Output Shape              Param #   \n",
      "=================================================================\n",
      " embedding (Embedding)       (None, 10, 100)           337500    \n",
      "                                                                 \n",
      " bidirectional (Bidirectiona  (None, 10, 300)          301200    \n",
      " l)                                                              \n",
      "                                                                 \n",
      " dropout (Dropout)           (None, 10, 300)           0         \n",
      "                                                                 \n",
      " lstm_1 (LSTM)               (None, 100)               160400    \n",
      "                                                                 \n",
      " dense (Dense)               (None, 1687)              170387    \n",
      "                                                                 \n",
      " dense_1 (Dense)             (None, 3375)              5697000   \n",
      "                                                                 \n",
      "=================================================================\n",
      "Total params: 6,666,487\n",
      "Trainable params: 6,666,487\n",
      "Non-trainable params: 0\n",
      "_________________________________________________________________\n"
     ]
    }
   ],
   "source": [
    "model.summary()\n",
    "\n"
   ]
  },
  {
   "cell_type": "markdown",
   "metadata": {},
   "source": [
    "# Now train the model for 50 epochs and assign it to a variable called history.\n",
    "\n",
    "Training the model with 50 epochs should get you around 40% accuracy.\n",
    "\n",
    "You can train the model for as many epochs as you like depending on the time and computing constraints you are facing. Ideally train it for a larger amount of epochs than 50.\n",
    "\n",
    "That way you will get better text generation at the end.\n",
    "\n",
    "However, dont waste your time."
   ]
  },
  {
   "cell_type": "code",
   "execution_count": 19,
   "metadata": {
    "id": "AIg2f1HBxqof",
    "tags": []
   },
   "outputs": [
    {
     "name": "stdout",
     "output_type": "stream",
     "text": [
      "Epoch 1/50\n",
      "484/484 [==============================] - 36s 58ms/step - loss: 6.9126 - accuracy: 0.0214\n",
      "Epoch 2/50\n",
      "484/484 [==============================] - 28s 57ms/step - loss: 6.5026 - accuracy: 0.0227\n",
      "Epoch 3/50\n",
      "484/484 [==============================] - 28s 58ms/step - loss: 6.4032 - accuracy: 0.0246\n",
      "Epoch 4/50\n",
      "484/484 [==============================] - 27s 56ms/step - loss: 6.2855 - accuracy: 0.0284\n",
      "Epoch 5/50\n",
      "484/484 [==============================] - 28s 58ms/step - loss: 6.1795 - accuracy: 0.0336\n",
      "Epoch 6/50\n",
      "484/484 [==============================] - 28s 57ms/step - loss: 6.0941 - accuracy: 0.0396\n",
      "Epoch 7/50\n",
      "484/484 [==============================] - 27s 56ms/step - loss: 6.0129 - accuracy: 0.0414\n",
      "Epoch 8/50\n",
      "484/484 [==============================] - 27s 57ms/step - loss: 5.9205 - accuracy: 0.0454\n",
      "Epoch 9/50\n",
      "484/484 [==============================] - 27s 56ms/step - loss: 5.8114 - accuracy: 0.0499\n",
      "Epoch 10/50\n",
      "484/484 [==============================] - 27s 55ms/step - loss: 5.6941 - accuracy: 0.0576\n",
      "Epoch 11/50\n",
      "484/484 [==============================] - 27s 56ms/step - loss: 5.5724 - accuracy: 0.0641\n",
      "Epoch 12/50\n",
      "484/484 [==============================] - 28s 57ms/step - loss: 5.4578 - accuracy: 0.0685\n",
      "Epoch 13/50\n",
      "484/484 [==============================] - 28s 57ms/step - loss: 5.3423 - accuracy: 0.0762\n",
      "Epoch 14/50\n",
      "484/484 [==============================] - 27s 57ms/step - loss: 5.2306 - accuracy: 0.0809\n",
      "Epoch 15/50\n",
      "484/484 [==============================] - 28s 57ms/step - loss: 5.1250 - accuracy: 0.0894\n",
      "Epoch 16/50\n",
      "484/484 [==============================] - 29s 60ms/step - loss: 5.0160 - accuracy: 0.0938\n",
      "Epoch 17/50\n",
      "484/484 [==============================] - 32s 66ms/step - loss: 4.9088 - accuracy: 0.1054\n",
      "Epoch 18/50\n",
      "484/484 [==============================] - 30s 63ms/step - loss: 4.7990 - accuracy: 0.1128\n",
      "Epoch 19/50\n",
      "484/484 [==============================] - 26s 55ms/step - loss: 4.6951 - accuracy: 0.1240\n",
      "Epoch 20/50\n",
      "484/484 [==============================] - 26s 55ms/step - loss: 4.5834 - accuracy: 0.1343\n",
      "Epoch 21/50\n",
      "484/484 [==============================] - 27s 55ms/step - loss: 4.4808 - accuracy: 0.1439\n",
      "Epoch 22/50\n",
      "484/484 [==============================] - 26s 54ms/step - loss: 4.3812 - accuracy: 0.1558\n",
      "Epoch 23/50\n",
      "484/484 [==============================] - 27s 55ms/step - loss: 4.2727 - accuracy: 0.1671\n",
      "Epoch 24/50\n",
      "484/484 [==============================] - 27s 56ms/step - loss: 4.1694 - accuracy: 0.1808\n",
      "Epoch 25/50\n",
      "484/484 [==============================] - 27s 56ms/step - loss: 4.0622 - accuracy: 0.1912\n",
      "Epoch 26/50\n",
      "484/484 [==============================] - 26s 54ms/step - loss: 3.9575 - accuracy: 0.2067\n",
      "Epoch 27/50\n",
      "484/484 [==============================] - 26s 54ms/step - loss: 3.8624 - accuracy: 0.2264\n",
      "Epoch 28/50\n",
      "484/484 [==============================] - 27s 55ms/step - loss: 3.7532 - accuracy: 0.2427\n",
      "Epoch 29/50\n",
      "484/484 [==============================] - 28s 58ms/step - loss: 3.6574 - accuracy: 0.2631\n",
      "Epoch 30/50\n",
      "484/484 [==============================] - 27s 56ms/step - loss: 3.5618 - accuracy: 0.2818\n",
      "Epoch 31/50\n",
      "484/484 [==============================] - 26s 54ms/step - loss: 3.4765 - accuracy: 0.3014\n",
      "Epoch 32/50\n",
      "484/484 [==============================] - 27s 55ms/step - loss: 3.3897 - accuracy: 0.3207\n",
      "Epoch 33/50\n",
      "484/484 [==============================] - 27s 56ms/step - loss: 3.2973 - accuracy: 0.3427\n",
      "Epoch 34/50\n",
      "484/484 [==============================] - 28s 57ms/step - loss: 3.2177 - accuracy: 0.3580\n",
      "Epoch 35/50\n",
      "484/484 [==============================] - 28s 58ms/step - loss: 3.1412 - accuracy: 0.3738\n",
      "Epoch 36/50\n",
      "484/484 [==============================] - 28s 58ms/step - loss: 3.0639 - accuracy: 0.3927\n",
      "Epoch 37/50\n",
      "484/484 [==============================] - 29s 60ms/step - loss: 2.9838 - accuracy: 0.4136\n",
      "Epoch 38/50\n",
      "484/484 [==============================] - 28s 58ms/step - loss: 2.9103 - accuracy: 0.4308\n",
      "Epoch 39/50\n",
      "484/484 [==============================] - 28s 57ms/step - loss: 2.8307 - accuracy: 0.4476\n",
      "Epoch 40/50\n",
      "484/484 [==============================] - 28s 58ms/step - loss: 2.7589 - accuracy: 0.4640\n",
      "Epoch 41/50\n",
      "484/484 [==============================] - 28s 58ms/step - loss: 2.7036 - accuracy: 0.4759\n",
      "Epoch 42/50\n",
      "484/484 [==============================] - 28s 57ms/step - loss: 2.6359 - accuracy: 0.4936\n",
      "Epoch 43/50\n",
      "484/484 [==============================] - 28s 57ms/step - loss: 2.5842 - accuracy: 0.5058\n",
      "Epoch 44/50\n",
      "484/484 [==============================] - 28s 58ms/step - loss: 2.5257 - accuracy: 0.5205\n",
      "Epoch 45/50\n",
      "484/484 [==============================] - 30s 62ms/step - loss: 2.4607 - accuracy: 0.5322\n",
      "Epoch 46/50\n",
      "484/484 [==============================] - 28s 58ms/step - loss: 2.3984 - accuracy: 0.5501\n",
      "Epoch 47/50\n",
      "484/484 [==============================] - 28s 58ms/step - loss: 2.3549 - accuracy: 0.5598\n",
      "Epoch 48/50\n",
      "484/484 [==============================] - 28s 58ms/step - loss: 2.3054 - accuracy: 0.5701\n",
      "Epoch 49/50\n",
      "484/484 [==============================] - 28s 59ms/step - loss: 2.2521 - accuracy: 0.5843\n",
      "Epoch 50/50\n",
      "484/484 [==============================] - 28s 58ms/step - loss: 2.2068 - accuracy: 0.5918\n"
     ]
    }
   ],
   "source": [
    "history = model.fit(predictors, labels, epochs=50, verbose=1)\n"
   ]
  },
  {
   "cell_type": "markdown",
   "metadata": {},
   "source": [
    "# Use plt from matplotlib to plot the training accuracy over epochs and the loss over epochs"
   ]
  },
  {
   "cell_type": "markdown",
   "metadata": {},
   "source": [
    "First you will have to get the accuracy and loss data over epochs, you can do this by using methods on your model."
   ]
  },
  {
   "cell_type": "code",
   "execution_count": 20,
   "metadata": {
    "id": "1fXTEO3GJ282",
    "tags": []
   },
   "outputs": [
    {
     "data": {
      "image/png": "[encoded data removed]",
      "text/plain": [
       "<Figure size 640x480 with 1 Axes>"
      ]
     },
     "metadata": {},
     "output_type": "display_data"
    },
    {
     "data": {
      "image/png": "[encoded data removed]",
      "text/plain": [
       "<Figure size 640x480 with 1 Axes>"
      ]
     },
     "metadata": {},
     "output_type": "display_data"
    }
   ],
   "source": [
    "import matplotlib.pyplot as plt\n",
    "\n",
    "# Plot accuracy\n",
    "plt.plot(history.history['accuracy'])\n",
    "plt.title('Model Accuracy')\n",
    "plt.ylabel('Accuracy')\n",
    "plt.xlabel('Epoch')\n",
    "plt.legend(['Train'], loc='upper left')\n",
    "plt.show()\n",
    "\n",
    "# Plot loss\n",
    "plt.plot(history.history['loss'])\n",
    "plt.title('Model Loss')\n",
    "plt.ylabel('Loss')\n",
    "plt.xlabel('Epoch')\n",
    "plt.legend(['Train'], loc='upper left')\n",
    "plt.show()\n"
   ]
  },
  {
   "cell_type": "markdown",
   "metadata": {},
   "source": [
    "# Generate text with the model based on a seed text\n",
    "\n",
    "Now you will create two variables :\n",
    "\n",
    "- seed_text = 'Write the text you want the model to use as a starting point to generate the next words'\n",
    "- next_words = number_of_words_you_want_the_model_to_generate\n",
    "\n",
    "Please change number_of_words_you_want_the_model_to_generate by an actual integer."
   ]
  },
  {
   "cell_type": "code",
   "execution_count": 21,
   "metadata": {},
   "outputs": [],
   "source": [
    "seed_text = \"Write the text you want the model to use as a starting point to generate the next words\"\n",
    "next_words = 20\n"
   ]
  },
  {
   "cell_type": "markdown",
   "metadata": {},
   "source": [
    "Now create a loop that runs based on the next_words variable and generates new text based on your seed_text input string. Print the full text with the generated text at the end.\n",
    "\n",
    "This time you dont get detailed instructions.\n",
    "\n",
    "Have fun!"
   ]
  },
  {
   "cell_type": "code",
   "execution_count": 22,
   "metadata": {
    "id": "6Vc6PHgxa6Hm",
    "tags": []
   },
   "outputs": [
    {
     "name": "stdout",
     "output_type": "stream",
     "text": [
      "Write the text you want the model to use as a starting point to generate the next words night old light rhyme pride old blind way 'will ' rare prove me ill forth me alone so weep me\n"
     ]
    }
   ],
   "source": [
    "for _ in range(next_words):\n",
    "    token_list = tokenizer.texts_to_sequences([seed_text])[0]\n",
    "    token_list = pad_sequences([token_list], maxlen=max_sequence_len-1, padding='pre')\n",
    "    predicted = model.predict(token_list, verbose=0)\n",
    "    predicted_word_index = np.argmax(predicted)\n",
    "    predicted_word = tokenizer.index_word[predicted_word_index]\n",
    "    seed_text += \" \" + predicted_word\n",
    "\n",
    "print(seed_text)\n"
   ]
  },
  {
   "cell_type": "markdown",
   "metadata": {},
   "source": [
    "Experiment with at least 3 different seed_text strings and see what happens!"
   ]
  },
  {
   "cell_type": "code",
   "execution_count": 23,
   "metadata": {},
   "outputs": [
    {
     "name": "stdout",
     "output_type": "stream",
     "text": [
      "The sun sets in the poet's knife pen defaced defaced mother decays chary moan me old foes horse 'tis die fullness hide me away resort\n",
      "--------------------------------------------------\n",
      "Oh, what a beautiful sight should give false veins it speechless trim steel end gain decays borne moan ' decays sad worn light light\n",
      "--------------------------------------------------\n",
      "To be or not to the lesson for to make love hell love blind blind treasure doth thee old bright ' forth thee be foes\n",
      "--------------------------------------------------\n"
     ]
    }
   ],
   "source": [
    "# Example seed texts\n",
    "seed_texts = [\n",
    "    \"The sun sets in the\",\n",
    "    \"Oh, what a beautiful\",\n",
    "    \"To be or not to\"\n",
    "]\n",
    "\n",
    "next_words = 20\n",
    "\n",
    "for seed_text in seed_texts:\n",
    "    generated_text = seed_text\n",
    "    for _ in range(next_words):\n",
    "        token_list = tokenizer.texts_to_sequences([generated_text])[0]\n",
    "        token_list = pad_sequences([token_list], maxlen=max_sequence_len-1, padding='pre')\n",
    "        predicted = model.predict(token_list, verbose=0)\n",
    "        predicted_word_index = np.argmax(predicted)\n",
    "        predicted_word = tokenizer.index_word[predicted_word_index]\n",
    "        generated_text += \" \" + predicted_word\n",
    "\n",
    "    print(generated_text)\n",
    "    print(\"-\" * 50)\n"
   ]
  },
  {
   "cell_type": "code",
   "execution_count": null,
   "metadata": {},
   "outputs": [],
   "source": []
  }
 ],
 "metadata": {
  "accelerator": "GPU",
  "colab": {
   "name": "NLP_Week4_Exercise_Shakespeare_Answer.ipynb",
   "provenance": [],
   "toc_visible": true
  },
  "kernelspec": {
   "display_name": "tf_env",
   "language": "python",
   "name": "python3"
  },
  "language_info": {
   "codemirror_mode": {
    "name": "ipython",
    "version": 3
   },
   "file_extension": ".py",
   "mimetype": "text/x-python",
   "name": "python",
   "nbconvert_exporter": "python",
   "pygments_lexer": "ipython3",
   "version": "3.10.8"
  }
 },
 "nbformat": 4,
 "nbformat_minor": 4
}
